{
  "nbformat": 4,
  "nbformat_minor": 0,
  "metadata": {
    "colab": {
      "provenance": [],
      "include_colab_link": true
    },
    "kernelspec": {
      "name": "python3",
      "display_name": "Python 3"
    },
    "language_info": {
      "name": "python"
    }
  },
  "cells": [
    {
      "cell_type": "markdown",
      "metadata": {
        "id": "view-in-github",
        "colab_type": "text"
      },
      "source": [
        "<a href=\"https://colab.research.google.com/github/SofiaMendoza98/TIENDA-ONLINE/blob/main/Untitled3.ipynb\" target=\"_parent\"><img src=\"https://colab.research.google.com/assets/colab-badge.svg\" alt=\"Open In Colab\"/></a>"
      ]
    },
    {
      "cell_type": "code",
      "source": [],
      "metadata": {
        "id": "-uULCQWEN-M3"
      },
      "execution_count": null,
      "outputs": []
    },
    {
      "cell_type": "code",
      "execution_count": null,
      "metadata": {
        "id": "lZVwaXYiB43z",
        "colab": {
          "base_uri": "https://localhost:8080/",
          "height": 211
        },
        "outputId": "543a3686-6a73-4cc2-8f06-b7a0131e8eaf"
      },
      "outputs": [
        {
          "output_type": "error",
          "ename": "TypeError",
          "evalue": "ropa.__init__() missing 1 required positional argument: 'carrito'",
          "traceback": [
            "\u001b[0;31m---------------------------------------------------------------------------\u001b[0m",
            "\u001b[0;31mTypeError\u001b[0m                                 Traceback (most recent call last)",
            "\u001b[0;32m<ipython-input-20-988c54c1d120>\u001b[0m in \u001b[0;36m<cell line: 9>\u001b[0;34m()\u001b[0m\n\u001b[1;32m      7\u001b[0m \u001b[0mcarrito\u001b[0m \u001b[0;34m=\u001b[0m \u001b[0;34m[\u001b[0m\u001b[0;34m]\u001b[0m\u001b[0;34m\u001b[0m\u001b[0;34m\u001b[0m\u001b[0m\n\u001b[1;32m      8\u001b[0m \u001b[0;34m\u001b[0m\u001b[0m\n\u001b[0;32m----> 9\u001b[0;31m \u001b[0mprenda1\u001b[0m \u001b[0;34m=\u001b[0m \u001b[0mropa\u001b[0m\u001b[0;34m(\u001b[0m\u001b[0;34m\"remera\"\u001b[0m\u001b[0;34m,\u001b[0m\u001b[0;36m2555\u001b[0m\u001b[0;34m,\u001b[0m\u001b[0;34m\"XL\"\u001b[0m\u001b[0;34m)\u001b[0m\u001b[0;34m\u001b[0m\u001b[0;34m\u001b[0m\u001b[0m\n\u001b[0m\u001b[1;32m     10\u001b[0m \u001b[0mprenda2\u001b[0m \u001b[0;34m=\u001b[0m \u001b[0mropa\u001b[0m\u001b[0;34m(\u001b[0m\u001b[0;34m\"Pantalon\"\u001b[0m \u001b[0;34m,\u001b[0m\u001b[0;36m4000\u001b[0m\u001b[0;34m,\u001b[0m \u001b[0;34m\"l\"\u001b[0m \u001b[0;34m)\u001b[0m\u001b[0;34m\u001b[0m\u001b[0;34m\u001b[0m\u001b[0m\n\u001b[1;32m     11\u001b[0m \u001b[0mprenda3\u001b[0m \u001b[0;34m=\u001b[0m \u001b[0mropa\u001b[0m\u001b[0;34m(\u001b[0m\u001b[0;34m\"Buzo\"\u001b[0m\u001b[0;34m,\u001b[0m\u001b[0;36m5000\u001b[0m\u001b[0;34m,\u001b[0m \u001b[0;34m\"g\"\u001b[0m\u001b[0;34m)\u001b[0m\u001b[0;34m\u001b[0m\u001b[0;34m\u001b[0m\u001b[0m\n",
            "\u001b[0;31mTypeError\u001b[0m: ropa.__init__() missing 1 required positional argument: 'carrito'"
          ]
        }
      ],
      "source": [
        "class ropa:\n",
        "  def __init__(self, tipo, precio, talle,carrito ):\n",
        "    self.tipo = tipo\n",
        "    self.precio = precio\n",
        "    self.talle = talle\n",
        "\n",
        "carrito = []\n",
        "\n",
        "prenda1 = ropa(\"remera\",2555,\"XL\")\n",
        "prenda2 = ropa(\"Pantalon\" ,4000, \"l\" )\n",
        "prenda3 = ropa(\"Buzo\",5000, \"g\")\n",
        "prenda4 = ropa(\"Medias\",2000, \" k\")\n",
        "\n",
        "print(f\"Prendas disponibles: print(prenda1.tipo,prenda1.precio)\")\n",
        "print(prenda1.tipo,prenda1.precio)\n",
        "print(prenda2.tipo,prenda2.precio)\n",
        "print(prenda3.tipo,prenda3.precio)\n",
        "print(prenda4.tipo,prenda4.precio)\n",
        "\n",
        "def carro(self,prenda):\n",
        "  print(carrito)\n",
        "\n",
        "\n",
        "\n",
        "ropa = int(input(\"Ingrese la ropa que desea compar\"))\n",
        "\n",
        "def seleccionar_prenda(self):\n",
        "        if ropa==1:\n",
        "          self.carrito.append(prenda1)\n",
        "        elif ropa==2:\n",
        "           self.carrito.append(prenda1)\n",
        "        elif ropa==3:\n",
        "          prenda1.precio = carro.append\n",
        "        elif ropa==4:\n",
        "         prenda1.precio = carro.append\n",
        "        else:\n",
        "          print(\"Ingrese un numero valido\")\n",
        "\n",
        "\n",
        "print(seleccionar_prenda)\n",
        "\n",
        "print(carro)\n",
        "\n",
        "\n",
        "\n",
        "\n"
      ]
    },
    {
      "cell_type": "code",
      "source": [
        "class ropa:\n",
        "    def __init__(self, nombre, precio, talla,cantidad):\n",
        "        self.nombre = nombre\n",
        "        self.precio = precio\n",
        "        self.talla = talla\n",
        "        self.cantidad = cantidad\n",
        "\n",
        "    def productos(self):\n",
        "        print(f\"Nombre: {self.nombre}\")\n",
        "        print(f\"Precio: {self.precio}\")\n",
        "        print(f\"Talla: {self.talla}\")\n",
        "        print(f\"Cantidad: {self.cantidad}\")\n",
        "\n",
        "class tiendita:\n",
        "  def __init__(self,tiendita):\n",
        "    self.carrito = []\n",
        "\n",
        "def agregar_carrito(ropa):\n",
        "        carrito.append(ropa)\n",
        "tienda = tiendita(\"hola\")\n",
        "remera = ropa(\"remera\",2555,\"XL\",20)\n",
        "pantalon = ropa(\"Pantalon\" ,4000, \"l\",20)\n",
        "buzo = ropa(\"Buzo\",5000, \"g\",20)\n",
        "prenda4 = ropa(\"Medias\",2000, \" k\",20)\n",
        "\n",
        "\n",
        "def mostrar_carrito(self):\n",
        "  tienda.carrito(remera)\n",
        "  tienda.carrito(pantalon)\n",
        "  tienda.carrito(buzo)\n",
        "\n",
        "\n",
        "print(self.cantidad)"
      ],
      "metadata": {
        "id": "5yrBojvjzqQ7",
        "colab": {
          "base_uri": "https://localhost:8080/"
        },
        "outputId": "2e6b43be-1f20-48f9-d499-c674c61ef8e0"
      },
      "execution_count": null,
      "outputs": [
        {
          "output_type": "stream",
          "name": "stdout",
          "text": [
            "<function mostrar_carrito at 0x78be96da9000>\n"
          ]
        }
      ]
    },
    {
      "cell_type": "code",
      "source": [
        "productos = int(input(\"Ingrese la ropa que desea compar\"))\n",
        "if productos"
      ],
      "metadata": {
        "id": "EmKd1VvoHwUy"
      },
      "execution_count": null,
      "outputs": []
    }
  ]
}